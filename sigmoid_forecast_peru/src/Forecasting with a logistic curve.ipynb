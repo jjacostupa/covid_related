{
 "cells": [
  {
   "cell_type": "code",
   "execution_count": null,
   "metadata": {},
   "outputs": [],
   "source": [
    "import requests\n",
    "import json\n",
    "from pymongo import MongoClient\n",
    "from tqdm.notebook import tqdm\n",
    "import numpy as np\n",
    "import pandas as pd\n",
    "import matplotlib.pyplot as plt\n",
    "import matplotlib.animation as animation\n",
    "from scipy.optimize import curve_fit, least_squares\n",
    "from celluloid import Camera"
   ]
  },
  {
   "cell_type": "markdown",
   "metadata": {},
   "source": [
    "## Request for data\n",
    "from https://github.com/DataScienceResearchPeru/covid-19_latinoamerica"
   ]
  },
  {
   "cell_type": "code",
   "execution_count": null,
   "metadata": {},
   "outputs": [],
   "source": [
    "url = \"https://covid19latam.herokuapp.com/data\"\n",
    "payload = {}\n",
    "headers = {'accept': 'application/json'}\n",
    "\n",
    "response = requests.request(\"GET\", url, headers=headers, data = payload)\n",
    "\n",
    "data = json.loads(response.text.encode('utf8'))"
   ]
  },
  {
   "cell_type": "markdown",
   "metadata": {},
   "source": [
    "## Storage\n",
    "Sending everything to a MongoDB Atlas collection, for faster querying."
   ]
  },
  {
   "cell_type": "code",
   "execution_count": null,
   "metadata": {},
   "outputs": [],
   "source": [
    "# Credentials\n",
    "user = 'username'\n",
    "password = 'password'\n",
    "atlas_url = r\"mongodb+srv://{}:{}@cluster0-t38ya.mongodb.net/test\".format(username,password)"
   ]
  },
  {
   "cell_type": "code",
   "execution_count": null,
   "metadata": {
    "scrolled": true
   },
   "outputs": [],
   "source": [
    "# Connection to database\n",
    "client = MongoClient(atlas_url)\n",
    "database = client[ \"covidlatam\" ]\n",
    "people_collection = database[ \"evolution_over_time\" ]"
   ]
  },
  {
   "cell_type": "code",
   "execution_count": null,
   "metadata": {},
   "outputs": [],
   "source": [
    "# Inserting multiple documents\n",
    "x = people_collection.insert_many(data)\n",
    "\n",
    "# Updating from source"
   ]
  },
  {
   "cell_type": "markdown",
   "metadata": {},
   "source": [
    "## Querying and transformation"
   ]
  },
  {
   "cell_type": "code",
   "execution_count": null,
   "metadata": {
    "scrolled": false
   },
   "outputs": [],
   "source": [
    "query = {'Country':'Peru'}\n",
    "\n",
    "covid_peru = []\n",
    "for p in people_collection.find(query):\n",
    "    covid_peru.append(p)\n",
    "\n",
    "covid_peru = pd.DataFrame(covid_peru)\n",
    "covid_peru = covid_peru.set_index('_id')"
   ]
  },
  {
   "cell_type": "code",
   "execution_count": null,
   "metadata": {
    "scrolled": true
   },
   "outputs": [],
   "source": [
    "agg = {'Confirmed':['sum'],'Deaths':['sum'],'Recovered':['sum']}\n",
    "\n",
    "covid_daily_pe = covid_peru.groupby('Date').agg(agg)"
   ]
  },
  {
   "cell_type": "code",
   "execution_count": null,
   "metadata": {},
   "outputs": [],
   "source": [
    "# Some cleaning and transformations\n",
    "\n",
    "covid_daily_pe = covid_daily_pe[covid_daily_pe[('Confirmed','sum')]>0]\n",
    "covid_daily_pe = covid_daily_pe.reset_index()\n",
    "covid_daily_pe['Date'] = pd.to_datetime(covid_daily_pe['Date'])"
   ]
  },
  {
   "cell_type": "code",
   "execution_count": null,
   "metadata": {},
   "outputs": [],
   "source": [
    "covid_daily_pe['days_past_first'] = (covid_daily_pe['Date'] - covid_daily_pe['Date'].min()).dt.days"
   ]
  },
  {
   "cell_type": "code",
   "execution_count": 7,
   "metadata": {
    "scrolled": true
   },
   "outputs": [
    {
     "data": {
      "text/plain": [
       "[<matplotlib.lines.Line2D at 0x1d9c7cd1fc8>]"
      ]
     },
     "execution_count": 7,
     "metadata": {},
     "output_type": "execute_result"
    },
    {
     "data": {
      "image/png": "[encoded data removed]",
      "text/plain": [
       "<Figure size 432x288 with 1 Axes>"
      ]
     },
     "metadata": {
      "needs_background": "light"
     },
     "output_type": "display_data"
    }
   ],
   "source": [
    "plt.plot(covid_daily_pe['days_past_first'],covid_daily_pe[('Confirmed','sum')],'x')"
   ]
  },
  {
   "cell_type": "markdown",
   "metadata": {},
   "source": [
    "## Curve-fitting"
   ]
  },
  {
   "cell_type": "code",
   "execution_count": null,
   "metadata": {},
   "outputs": [],
   "source": [
    "def logistic_curve(x, L ,x0, k, b):\n",
    "    y = L / (1 + np.exp(-k*(x-x0)))+b\n",
    "    return y"
   ]
  },
  {
   "cell_type": "code",
   "execution_count": null,
   "metadata": {},
   "outputs": [],
   "source": [
    "x_train = covid_daily_pe['days_past_first'].values\n",
    "y_train = covid_daily_pe[('Confirmed','sum')].values\n",
    "x_pred = np.arange(100)\n",
    "y0 = [max(y_train), np.median(x_train),1,min(y_train)]"
   ]
  },
  {
   "cell_type": "code",
   "execution_count": null,
   "metadata": {},
   "outputs": [],
   "source": [
    "popt, pcov = curve_fit(logistic_curve, x_train, y_train, y0, maxfev = 50000)\n",
    "y_pred = logistic_curve(*[x_pred, *popt.tolist()])"
   ]
  },
  {
   "cell_type": "code",
   "execution_count": 13,
   "metadata": {
    "scrolled": true
   },
   "outputs": [
    {
     "data": {
      "text/plain": [
       "[<matplotlib.lines.Line2D at 0x1d9c8d5fe48>]"
      ]
     },
     "execution_count": 13,
     "metadata": {},
     "output_type": "execute_result"
    },
    {
     "data": {
      "image/png": "[encoded data removed]",
      "text/plain": [
       "<Figure size 432x288 with 1 Axes>"
      ]
     },
     "metadata": {
      "needs_background": "light"
     },
     "output_type": "display_data"
    }
   ],
   "source": [
    "plt.plot(x_pred, y_pred)\n",
    "plt.plot(x_train,y_train,'x')"
   ]
  },
  {
   "cell_type": "markdown",
   "metadata": {},
   "source": [
    "## Animation"
   ]
  },
  {
   "cell_type": "code",
   "execution_count": 39,
   "metadata": {},
   "outputs": [
    {
     "data": {
      "text/plain": [
       "<matplotlib.legend.Legend at 0x1d9cd1efec8>"
      ]
     },
     "execution_count": 39,
     "metadata": {},
     "output_type": "execute_result"
    },
    {
     "data": {
      "image/png": "[encoded data removed]",
      "text/plain": [
       "<Figure size 432x288 with 1 Axes>"
      ]
     },
     "metadata": {
      "needs_background": "light"
     },
     "output_type": "display_data"
    }
   ],
   "source": [
    "# plot the true curve and the observed points\n",
    "plt.rcParams[\"font.family\"] = 'serif'\n",
    "plt.rcParams['font.size'] = 10\n",
    "fig, ax = plt.subplots(figsize=(6,4))\n",
    "scat = ax.scatter(x_pred,y_pred,marker='x',c='b')\n",
    "plt.plot(x_train,y_train,c='k',lw='2',zorder=1,label='True')\n",
    "plt.ylim(0,20000)\n",
    "plt.xlim(0,80)\n",
    "plt.grid(ls=':')\n",
    "plt.tight_layout()\n",
    "line, = ax.plot([], [], c='r',lw=2,zorder=2,label='Predicted')\n",
    "line2, = ax.plot([], [], c='b',ls='--')\n",
    "plt.legend(loc=2)\n",
    "plt.legend(loc=2)"
   ]
  },
  {
   "cell_type": "code",
   "execution_count": null,
   "metadata": {},
   "outputs": [],
   "source": [
    "def opt_param(t):\n",
    "    x_train = covid_daily_pe['days_past_first'].values[:t]\n",
    "    y_train = covid_daily_pe[('Confirmed','sum')].values[:t]\n",
    "    x_pred = np.arange(100)\n",
    "    y0 = [max(y_train), np.median(x_train),1,min(y_train)]\n",
    "    \n",
    "    popt, pcov = curve_fit(logistic_curve, x_train, y_train, y0, maxfev = 50000)\n",
    "    y_pred = logistic_curve(*[x_pred, *popt.tolist()])\n",
    "    \n",
    "    return x_train, y_train, x_pred, y_pred, popt"
   ]
  },
  {
   "cell_type": "code",
   "execution_count": null,
   "metadata": {
    "scrolled": true
   },
   "outputs": [],
   "source": [
    "# Main loop\n",
    "x_full = covid_daily_pe['days_past_first'].values\n",
    "y_full = covid_daily_pe[('Confirmed','sum')].values\n",
    "plt.rcParams[\"font.family\"] = 'serif'\n",
    "plt.rcParams['font.size'] = 10\n",
    "fig = plt.figure()\n",
    "camera = Camera(fig)\n",
    "for j in range(10,120):\n",
    "\n",
    "    i = j//2\n",
    "    \n",
    "    if (i < 35) and (j % 2 == 1): continue\n",
    "    \n",
    "    plt.ylim(0,30000)\n",
    "    plt.xlim(0,60)\n",
    "    \n",
    "    x_train, y_train, x_pred, y_pred, popt = opt_param(i)\n",
    "    plt.scatter(x_full,y_full,marker='x',c='k')\n",
    "    scat = plt.scatter(x_train,y_train,marker='x',c='b')\n",
    "    plt.plot(x_train,y_train,c='k',lw='2',zorder=1,label='True')\n",
    "    line, = plt.plot(x_pred, y_pred, c='r',lw=2,zorder=2,label='Predicted')\n",
    "    line2, = plt.plot(2*[max(x_train)], [0,250000], c='b',ls='--')\n",
    "    plt.grid(ls=':')\n",
    "    plt.tight_layout()\n",
    "    plt.legend(['True','Predicted'])\n",
    "    \n",
    "    camera.snap()\n",
    "    \n",
    "animation = camera.animate()\n",
    "animation.save('celluloid_minimal.gif', writer = 'imagemagick')"
   ]
  },
  {
   "cell_type": "markdown",
   "metadata": {},
   "source": [
    "## Final result"
   ]
  },
  {
   "cell_type": "markdown",
   "metadata": {},
   "source": [
    "<img src=\"celluloid_minimal.gif\" width=\"500\" align=\"center\">"
   ]
  },
  {
   "cell_type": "code",
   "execution_count": null,
   "metadata": {},
   "outputs": [],
   "source": []
  }
 ],
 "metadata": {
  "kernelspec": {
   "display_name": "Python 3",
   "language": "python",
   "name": "python3"
  },
  "language_info": {
   "codemirror_mode": {
    "name": "ipython",
    "version": 3
   },
   "file_extension": ".py",
   "mimetype": "text/x-python",
   "name": "python",
   "nbconvert_exporter": "python",
   "pygments_lexer": "ipython3",
   "version": "3.7.4"
  }
 },
 "nbformat": 4,
 "nbformat_minor": 2
}
